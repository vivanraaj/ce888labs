{
 "cells": [
  {
   "cell_type": "code",
   "execution_count": 1,
   "metadata": {},
   "outputs": [
    {
     "name": "stderr",
     "output_type": "stream",
     "text": [
      "/home/mrmad/anaconda3/envs/dl/lib/python3.5/site-packages/h5py/__init__.py:36: FutureWarning: Conversion of the second argument of issubdtype from `float` to `np.floating` is deprecated. In future, it will be treated as `np.float64 == np.dtype(float).type`.\n",
      "  from ._conv import register_converters as _register_converters\n",
      "Using TensorFlow backend.\n"
     ]
    }
   ],
   "source": [
    "# Import packages\n",
    "from keras.datasets import mnist\n",
    "from matplotlib import pyplot\n",
    "import os\n",
    "from keras.preprocessing.image import ImageDataGenerator\n",
    "from keras import backend as K"
   ]
  },
  {
   "cell_type": "code",
   "execution_count": 2,
   "metadata": {},
   "outputs": [
    {
     "name": "stdout",
     "output_type": "stream",
     "text": [
      "x_train shape: (60000, 28, 28)\n",
      "y_train shape: (60000,)\n",
      "x_test shape: (10000, 28, 28)\n",
      "y_test shape: (10000,)\n"
     ]
    }
   ],
   "source": [
    "# load MNIST Data\n",
    "(X_train, y_train), (X_test, y_test) = mnist.load_data()\n",
    "\n",
    "# check dataset shape\n",
    "print('x_train shape:', X_train.shape)\n",
    "print('y_train shape:', y_train.shape)\n",
    "print('x_test shape:', X_test.shape)\n",
    "print('y_test shape:', y_test.shape)"
   ]
  },
  {
   "cell_type": "code",
   "execution_count": 3,
   "metadata": {},
   "outputs": [],
   "source": [
    "#function for plotting the image\n",
    "def display_digit(num, x_train, y_train):\n",
    "    #label = y_train[num]\n",
    "    image = x_train[num].reshape([28,28])\n",
    "    #pyplot.title('Example: %d  Label: %d' % (num, label))\n",
    "    pyplot.imshow(image, cmap=pyplot.get_cmap('gray'))\n",
    "    pyplot.axis('off')\n",
    "    pyplot.show()"
   ]
  },
  {
   "cell_type": "code",
   "execution_count": 4,
   "metadata": {},
   "outputs": [
    {
     "data": {
      "image/png": "[encoded data removed]",
      "text/plain": [
       "<matplotlib.figure.Figure at 0x7f95ab20e470>"
      ]
     },
     "metadata": {},
     "output_type": "display_data"
    }
   ],
   "source": [
    "## plot sample image no.5 from original dataset\n",
    "display_digit(5, X_train, y_train)"
   ]
  },
  {
   "cell_type": "code",
   "execution_count": 5,
   "metadata": {},
   "outputs": [],
   "source": [
    "# prepare images for permutations\n",
    "\n",
    "# ZCA whitening\n",
    "K.set_image_dim_ordering('th')\n",
    "\n",
    "# reshape to be [samples][pixels][width][height]\n",
    "X_train_modified = X_train.reshape(X_train.shape[0], 1, 28, 28)\n",
    "X_test_modified = X_test.reshape(X_test.shape[0], 1, 28, 28)\n",
    "\n",
    "# convert from int to float\n",
    "X_train_final = X_train_modified.astype('float32')\n",
    "X_test_final = X_train_modified.astype('float32')"
   ]
  },
  {
   "cell_type": "code",
   "execution_count": 6,
   "metadata": {},
   "outputs": [
    {
     "name": "stderr",
     "output_type": "stream",
     "text": [
      "/home/mrmad/anaconda3/envs/dl/lib/python3.5/site-packages/keras/preprocessing/image.py:492: UserWarning: This ImageDataGenerator specifies `zca_whitening`, which overrides setting of `featurewise_center`.\n",
      "  warnings.warn('This ImageDataGenerator specifies '\n"
     ]
    }
   ],
   "source": [
    "# define data preparation\n",
    "datagen = ImageDataGenerator(zca_whitening=True)\n",
    "\n",
    "# fit parameters from data\n",
    "datagen.fit(X_train_final)\n",
    "\n",
    "# configure batch size and retrieve one batch of images\n",
    "# save images into file\n",
    "\n",
    "os.makedirs('mnist_images_zca')\n",
    "i=1\n",
    "\n",
    "for X_batch, y_batch in datagen.flow(X_train_final, y_train,batch_size =1,save_to_dir='mnist_images_zca', save_prefix='zca', save_format='png'):\n",
    "    #display_digit(5, X_batch, y_batch)\n",
    "    i += 1\n",
    "    if i >60000:\n",
    "        break  # otherwise the generator would loop indefinitely"
   ]
  },
  {
   "cell_type": "code",
   "execution_count": 7,
   "metadata": {},
   "outputs": [],
   "source": [
    "# Random Rotations\n",
    "# define data preparation\n",
    "datagen = ImageDataGenerator(rotation_range=90)\n",
    "\n",
    "# fit parameters from data\n",
    "datagen.fit(X_train_final)\n",
    "\n",
    "os.makedirs('mnist_images_rotation')\n",
    "i=1\n",
    "\n",
    "for X_batch, y_batch in datagen.flow(X_train_final, y_train,batch_size =1,save_to_dir='mnist_images_rotation', save_prefix='rot', save_format='png'):\n",
    "    i += 1\n",
    "    if i >60000:\n",
    "        break  # otherwise the generator would loop indefinitely"
   ]
  },
  {
   "cell_type": "code",
   "execution_count": 8,
   "metadata": {},
   "outputs": [],
   "source": [
    "# Random Flips\n",
    "\n",
    "# define data preparation\n",
    "datagen = ImageDataGenerator(horizontal_flip=True, vertical_flip=True)\n",
    "\n",
    "# fit parameters from data\n",
    "datagen.fit(X_train_final)\n",
    "\n",
    "os.makedirs('mnist_images_flips')\n",
    "i=1\n",
    "\n",
    "# configure batch size and retrieve one batch of images\n",
    "for X_batch, y_batch in datagen.flow(X_train_final, y_train,batch_size =1,save_to_dir='mnist_images_flips', save_prefix='flips', save_format='png'):\n",
    "    i += 1\n",
    "    if i >60000:\n",
    "        break  # otherwise the generator would loop indefinitely"
   ]
  }
 ],
 "metadata": {
  "kernelspec": {
   "display_name": "Python 3",
   "language": "python",
   "name": "python3"
  },
  "language_info": {
   "codemirror_mode": {
    "name": "ipython",
    "version": 3
   },
   "file_extension": ".py",
   "mimetype": "text/x-python",
   "name": "python",
   "nbconvert_exporter": "python",
   "pygments_lexer": "ipython3",
   "version": "3.5.4"
  }
 },
 "nbformat": 4,
 "nbformat_minor": 2
}
