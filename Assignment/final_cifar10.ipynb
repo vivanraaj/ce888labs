{
 "cells": [
  {
   "cell_type": "code",
   "execution_count": 1,
   "metadata": {},
   "outputs": [
    {
     "name": "stderr",
     "output_type": "stream",
     "text": [
      "/home/mrmad/anaconda3/envs/dl/lib/python3.5/site-packages/h5py/__init__.py:36: FutureWarning: Conversion of the second argument of issubdtype from `float` to `np.floating` is deprecated. In future, it will be treated as `np.float64 == np.dtype(float).type`.\n",
      "  from ._conv import register_converters as _register_converters\n",
      "Using TensorFlow backend.\n"
     ]
    }
   ],
   "source": [
    "# Import packages\n",
    "from keras.datasets import cifar10\n",
    "from matplotlib import pyplot\n",
    "import os\n",
    "from keras.preprocessing.image import ImageDataGenerator\n",
    "from keras import backend as K"
   ]
  },
  {
   "cell_type": "code",
   "execution_count": 2,
   "metadata": {},
   "outputs": [
    {
     "name": "stdout",
     "output_type": "stream",
     "text": [
      "x_train shape: (50000, 32, 32, 3)\n",
      "y_train shape: (50000, 1)\n",
      "x_test shape: (10000, 32, 32, 3)\n",
      "y_test shape: (10000, 1)\n"
     ]
    }
   ],
   "source": [
    "#The data, shuffled and split between train and test sets\n",
    "(x_train, y_train), (x_test, y_test) = cifar10.load_data()\n",
    "\n",
    "# check dataset shape\n",
    "print('x_train shape:', x_train.shape)\n",
    "print('y_train shape:', y_train.shape)\n",
    "print('x_test shape:', x_test.shape)\n",
    "print('y_test shape:', y_test.shape)"
   ]
  },
  {
   "cell_type": "code",
   "execution_count": 3,
   "metadata": {},
   "outputs": [
    {
     "name": "stdout",
     "output_type": "stream",
     "text": [
      "x_train shape: (50000, 32, 32, 3)\n",
      "50000 train samples\n",
      "10000 test samples\n"
     ]
    }
   ],
   "source": [
    "#Input image dimensions\n",
    "img_rows, img_cols = 32, 32\n",
    "\n",
    "if K.image_data_format() == 'channels_first':\n",
    "    x_train_modified = x_train.reshape(x_train.shape[0], 3, img_rows, img_cols)\n",
    "    x_test_modified = x_test.reshape(x_test.shape[0], 3, img_rows, img_cols)\n",
    "    input_shape = (3, img_rows, img_cols)\n",
    "else:\n",
    "    x_train_modified = x_train.reshape(x_train.shape[0], img_rows, img_cols, 3)\n",
    "    x_test_modified = x_test.reshape(x_test.shape[0], img_rows, img_cols, 3)\n",
    "    input_shape = (img_rows, img_cols, 3)\n",
    "\n",
    "# convert from int to float\n",
    "x_train_final = x_train_modified.astype('float32')\n",
    "x_test_final = x_test_modified.astype('float32')\n",
    "\n",
    "print('x_train shape:', x_train_final.shape)\n",
    "print(x_train_final.shape[0], 'train samples')\n",
    "print(x_test_final.shape[0], 'test samples')"
   ]
  },
  {
   "cell_type": "code",
   "execution_count": 4,
   "metadata": {},
   "outputs": [
    {
     "data": {
      "image/png": "[encoded data removed]",
      "text/plain": [
       "<matplotlib.figure.Figure at 0x7ff222fbb940>"
      ]
     },
     "metadata": {},
     "output_type": "display_data"
    }
   ],
   "source": [
    "## plot sample image no.9 from original dataset\n",
    "num = 14\n",
    "\n",
    "#pyplot.title('Label: %d' % (y_train[num]))\n",
    "pyplot.imshow(x_train_final[num])\n",
    "pyplot.axis('off')\n",
    "pyplot.show()"
   ]
  },
  {
   "cell_type": "code",
   "execution_count": 15,
   "metadata": {},
   "outputs": [
    {
     "name": "stderr",
     "output_type": "stream",
     "text": [
      "/home/mrmad/anaconda3/envs/dl/lib/python3.5/site-packages/keras/preprocessing/image.py:492: UserWarning: This ImageDataGenerator specifies `zca_whitening`, which overrides setting of `featurewise_center`.\n",
      "  warnings.warn('This ImageDataGenerator specifies '\n"
     ]
    },
    {
     "data": {
      "image/png": "[encoded data removed]",
      "text/plain": [
       "<matplotlib.figure.Figure at 0x7fa35adf8cf8>"
      ]
     },
     "metadata": {},
     "output_type": "display_data"
    }
   ],
   "source": [
    "# define data preparation\n",
    "datagen = ImageDataGenerator(zca_whitening=True)\n",
    "\n",
    "# fit parameters from data\n",
    "datagen.fit(x_train_final)\n",
    "\n",
    "# configure batch size and retrieve one batch of images\n",
    "# save images into file\n",
    "\n",
    "os.makedirs('cifar10_images_zca')\n",
    "i=1\n",
    "\n",
    "\n",
    "for X_batch, y_batch in datagen.flow(x_train_final, y_train,batch_size =1,save_to_dir='cifar10_images_zca', save_prefix='zca', save_format='png'):\n",
    "    i += 1\n",
    "    if i >50000:\n",
    "        break  # otherwise the generator would loop indefinitely"
   ]
  },
  {
   "cell_type": "code",
   "execution_count": 6,
   "metadata": {},
   "outputs": [],
   "source": [
    "# Random Rotations\n",
    "# define data preparation\n",
    "datagen = ImageDataGenerator(rotation_range=90)\n",
    "\n",
    "# fit parameters from data\n",
    "datagen.fit(x_train_final)\n",
    "\n",
    "os.makedirs('cifar10_images_rotation')\n",
    "i=1\n",
    "\n",
    "for X_batch, y_batch in datagen.flow(x_train_final, y_train,batch_size =1,save_to_dir='cifar10_images_rotation', save_prefix='rot', save_format='png'):\n",
    "    i += 1\n",
    "    if i >50000:\n",
    "        break  # otherwise the generator would loop indefinitely"
   ]
  },
  {
   "cell_type": "code",
   "execution_count": 7,
   "metadata": {},
   "outputs": [],
   "source": [
    "# Random Flips\n",
    "\n",
    "# define data preparation\n",
    "datagen = ImageDataGenerator(horizontal_flip=True, vertical_flip=True)\n",
    "\n",
    "# fit parameters from data\n",
    "datagen.fit(x_train_final)\n",
    "\n",
    "os.makedirs('cifar10_images_flips')\n",
    "i=1\n",
    "\n",
    "# configure batch size and retrieve one batch of images\n",
    "for X_batch, y_batch in datagen.flow(x_train_final, y_train,batch_size =1,save_to_dir='cifar10_images_flips', save_prefix='flips', save_format='png'):\n",
    "    i += 1\n",
    "    if i >50000:\n",
    "        break  # otherwise the generator would loop indefinitely"
   ]
  }
 ],
 "metadata": {
  "kernelspec": {
   "display_name": "Python 3",
   "language": "python",
   "name": "python3"
  },
  "language_info": {
   "codemirror_mode": {
    "name": "ipython",
    "version": 3
   },
   "file_extension": ".py",
   "mimetype": "text/x-python",
   "name": "python",
   "nbconvert_exporter": "python",
   "pygments_lexer": "ipython3",
   "version": "3.5.4"
  }
 },
 "nbformat": 4,
 "nbformat_minor": 2
}
